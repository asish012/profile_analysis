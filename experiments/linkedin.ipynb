{
 "cells": [
  {
   "cell_type": "code",
   "execution_count": 12,
   "metadata": {},
   "outputs": [],
   "source": [
    "import pandas as pd\n",
    "from bs4 import BeautifulSoup\n",
    "import os, time, random, configparser\n",
    "\n",
    "from selenium import webdriver\n",
    "from webdriver_manager.chrome import ChromeDriverManager\n",
    "from selenium.webdriver.support import expected_conditions as EC\n",
    "from selenium.webdriver.common.by import By\n",
    "from selenium.webdriver.common.keys import Keys\n",
    "from selenium.webdriver.chrome.service import Service\n",
    "from selenium.webdriver.support.ui import WebDriverWait\n"
   ]
  },
  {
   "cell_type": "code",
   "execution_count": 13,
   "metadata": {},
   "outputs": [],
   "source": [
    "config = configparser.ConfigParser()\n",
    "config.read('../config.ini')\n",
    "lusername = config['DEFAULT']['username']\n",
    "lpassword = config['DEFAULT']['password']\n"
   ]
  },
  {
   "cell_type": "code",
   "execution_count": 14,
   "metadata": {},
   "outputs": [],
   "source": [
    "driver = webdriver.Chrome(service=Service(ChromeDriverManager().install()))\n",
    "driver.get(\"https://www.linkedin.com/login\")\n"
   ]
  },
  {
   "cell_type": "code",
   "execution_count": 15,
   "metadata": {},
   "outputs": [],
   "source": [
    "# Login to LinkedIn\n",
    "def get_element(selector_type=By.CSS_SELECTOR, css_tag=\"\"):\n",
    "    return WebDriverWait(driver, 10).until(EC.element_to_be_clickable((selector_type, css_tag)))\n"
   ]
  },
  {
   "cell_type": "code",
   "execution_count": 16,
   "metadata": {},
   "outputs": [],
   "source": [
    "username = get_element(By.CSS_SELECTOR, \"input[name='session_key']\")\n",
    "password = get_element(By.CSS_SELECTOR, \"input[name='session_password']\")\n",
    "\n",
    "username.clear()\n",
    "password.clear()\n",
    "\n",
    "username.send_keys(lusername)\n",
    "password.send_keys(lpassword)\n",
    "\n",
    "submit = get_element(By.CSS_SELECTOR, \"button[class='btn__primary--large from__button--floating']\")\n",
    "submit.click()\n"
   ]
  },
  {
   "cell_type": "code",
   "execution_count": 19,
   "metadata": {},
   "outputs": [],
   "source": [
    "# search = get_element(By.CSS_SELECTOR, \"button[class='search-global-typeahead__collapsed-search-button']\")\n",
    "# # search = get_element(By.CSS_SELECTOR, \"input[class='search-global-typeahead__input always-show-placeholder']\") # fullscreen mode\n",
    "# search.click()\n",
    "\n",
    "# search_text = get_element(By.CSS_SELECTOR, \"input[class='search-global-typeahead__input always-show-placeholder']\")\n",
    "# search_text.send_keys(\"data analyst\")\n",
    "# search_text.send_keys(Keys.ENTER)\n",
    "\n",
    "# people = get_element(By.XPATH, \"//a[contains(text(), 'See all people results')]\")\n",
    "# people.click()\n"
   ]
  },
  {
   "cell_type": "code",
   "execution_count": null,
   "metadata": {},
   "outputs": [],
   "source": [
    "# soup = BeautifulSoup(driver.page_source)\n",
    "# profile_urls = soup.find_all(\"li\", {\"class\": \"reusable-search__result-container\"})\n",
    "\n",
    "# urls = []\n",
    "# for li in profile_urls:\n",
    "#     url = li.find(\"a\", {\"class\": \"app-aware-link\"})[\"href\"]\n",
    "#     if 'search/result' not in url:\n",
    "#         urls.append(url)\n",
    "\n",
    "# with open(\"profile_urls.txt\", \"a\") as f:\n",
    "#     f.write('\\n'.join(urls))\n"
   ]
  },
  {
   "cell_type": "code",
   "execution_count": null,
   "metadata": {},
   "outputs": [],
   "source": [
    "# time.sleep(random.randrange(10,60))\n"
   ]
  },
  {
   "cell_type": "code",
   "execution_count": null,
   "metadata": {},
   "outputs": [],
   "source": [
    "# driver.execute_script(\"window.scrollTo(0, 4000)\")\n",
    "# next = get_element(By.XPATH, \"//button[@aria-label='Next']\")\n",
    "# next.click()\n"
   ]
  },
  {
   "cell_type": "code",
   "execution_count": null,
   "metadata": {},
   "outputs": [],
   "source": [
    "# Collect 1000 linkedin profile links\n",
    "\n",
    "i = 0\n",
    "while i <= 11:\n",
    "\n",
    "    soup = BeautifulSoup(driver.page_source)\n",
    "    profile_urls = soup.find_all(\"li\", {\"class\": \"reusable-search__result-container\"})\n",
    "\n",
    "    urls = []\n",
    "    for li in profile_urls:\n",
    "        url = li.find(\"a\", {\"class\": \"app-aware-link\"})[\"href\"]\n",
    "        if 'search/result' not in url:\n",
    "            urls.append(url)\n",
    "            print(url)\n",
    "    i += len(urls)\n",
    "    \n",
    "    # write collected profile urls\n",
    "    with open(\"profile_urls.txt\", \"a\") as f:\n",
    "        f.write('\\n'.join(urls))\n",
    "\n",
    "    # wait some time\n",
    "    # time.sleep(random.randrange(10))\n",
    "    time.sleep(10)\n",
    "\n",
    "    # scroll and go to the next page\n",
    "    driver.execute_script(\"window.scrollTo(0, 4000)\")\n",
    "    next = get_element(By.XPATH, \"//button[@aria-label='Next']\")\n",
    "    next.click()\n",
    "\n",
    "driver.close()\n"
   ]
  },
  {
   "cell_type": "markdown",
   "metadata": {},
   "source": [
    "# Download Profiles"
   ]
  },
  {
   "cell_type": "code",
   "execution_count": null,
   "metadata": {},
   "outputs": [],
   "source": [
    "def download_profile(urls):\n",
    "    i = 1\n",
    "    for url in urls:\n",
    "        driver.get(url)\n",
    "        time.sleep(random.randrange(10,30))\n",
    "        with open(f\"../profile_html/profile_{i}.html\", \"w\") as f:\n",
    "            f.write(driver.page_source)\n",
    "            i = i + 1\n"
   ]
  },
  {
   "cell_type": "code",
   "execution_count": null,
   "metadata": {},
   "outputs": [],
   "source": [
    "profile_urls = []\n",
    "with open(\"profile_urls.txt\") as f:\n",
    "    profile_urls = f.readlines()\n",
    "\n",
    "# profile_urls = [url.rstrip('\\n') for url in profile_urls]\n",
    "profile_urls = [url.split('?')[0] for url in profile_urls]\n"
   ]
  },
  {
   "cell_type": "code",
   "execution_count": null,
   "metadata": {},
   "outputs": [],
   "source": [
    "download_profile(profile_urls[:1])\n"
   ]
  },
  {
   "cell_type": "code",
   "execution_count": null,
   "metadata": {},
   "outputs": [],
   "source": []
  }
 ],
 "metadata": {
  "interpreter": {
   "hash": "c0d4d1e333477aa1f39d6ee8d6f414217a277a9923b044dfedb3e05b90b7daa7"
  },
  "kernelspec": {
   "display_name": "Python 3.10.4 ('venv': venv)",
   "language": "python",
   "name": "python3"
  },
  "language_info": {
   "codemirror_mode": {
    "name": "ipython",
    "version": 3
   },
   "file_extension": ".py",
   "mimetype": "text/x-python",
   "name": "python",
   "nbconvert_exporter": "python",
   "pygments_lexer": "ipython3",
   "version": "3.8.18"
  },
  "orig_nbformat": 4
 },
 "nbformat": 4,
 "nbformat_minor": 2
}
