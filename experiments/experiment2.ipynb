{
 "cells": [
  {
   "cell_type": "code",
   "execution_count": 18,
   "metadata": {},
   "outputs": [],
   "source": [
    "import os, time, random, re, json, configparser\n",
    "import pandas as pd\n",
    "from pandas import json_normalize"
   ]
  },
  {
   "cell_type": "code",
   "execution_count": 21,
   "metadata": {},
   "outputs": [],
   "source": [
    "df_profile = pd.read_csv(\"../scraped_data/profile.csv\", index_col=False)\n",
    "df_experience = pd.read_csv(\"../scraped_data/experience.csv\", index_col=False)\n",
    "df_education = pd.read_csv(\"../scraped_data/education.csv\", index_col=False)\n",
    "df_certification = pd.read_csv(\"../scraped_data/certification.csv\", index_col=False)\n",
    "df_courses = pd.read_csv(\"../scraped_data/courses.csv\", index_col=False)"
   ]
  },
  {
   "cell_type": "code",
   "execution_count": 22,
   "metadata": {},
   "outputs": [
    {
     "data": {
      "text/html": [
       "<div>\n",
       "<style scoped>\n",
       "    .dataframe tbody tr th:only-of-type {\n",
       "        vertical-align: middle;\n",
       "    }\n",
       "\n",
       "    .dataframe tbody tr th {\n",
       "        vertical-align: top;\n",
       "    }\n",
       "\n",
       "    .dataframe thead th {\n",
       "        text-align: right;\n",
       "    }\n",
       "</style>\n",
       "<table border=\"1\" class=\"dataframe\">\n",
       "  <thead>\n",
       "    <tr style=\"text-align: right;\">\n",
       "      <th></th>\n",
       "      <th>job_title</th>\n",
       "      <th>company</th>\n",
       "      <th>job_type</th>\n",
       "      <th>job_duration</th>\n",
       "      <th>order</th>\n",
       "      <th>profile</th>\n",
       "    </tr>\n",
       "  </thead>\n",
       "  <tbody>\n",
       "    <tr>\n",
       "      <th>0</th>\n",
       "      <td>Business Intelligence Analyst</td>\n",
       "      <td>Netza</td>\n",
       "      <td>Full-time</td>\n",
       "      <td>1 yr</td>\n",
       "      <td>1.0</td>\n",
       "      <td>profile_1</td>\n",
       "    </tr>\n",
       "    <tr>\n",
       "      <th>1</th>\n",
       "      <td>Data Analyst</td>\n",
       "      <td>Vitrio</td>\n",
       "      <td>Full-time</td>\n",
       "      <td>2 mos</td>\n",
       "      <td>2.0</td>\n",
       "      <td>profile_1</td>\n",
       "    </tr>\n",
       "    <tr>\n",
       "      <th>2</th>\n",
       "      <td>Data Analytics Intern</td>\n",
       "      <td>Edelman Brasil</td>\n",
       "      <td>NaN</td>\n",
       "      <td>10 mos</td>\n",
       "      <td>3.0</td>\n",
       "      <td>profile_1</td>\n",
       "    </tr>\n",
       "    <tr>\n",
       "      <th>3</th>\n",
       "      <td>Assistant Civil Engineer</td>\n",
       "      <td>Marques Construtora e Incorporadora Ltda</td>\n",
       "      <td>NaN</td>\n",
       "      <td>4 yrs</td>\n",
       "      <td>4.0</td>\n",
       "      <td>profile_1</td>\n",
       "    </tr>\n",
       "    <tr>\n",
       "      <th>4</th>\n",
       "      <td>Senior Data Analyst</td>\n",
       "      <td>Joyn GmbH</td>\n",
       "      <td>Full-time</td>\n",
       "      <td>1 yr 3 mos</td>\n",
       "      <td>1.0</td>\n",
       "      <td>profile_10</td>\n",
       "    </tr>\n",
       "  </tbody>\n",
       "</table>\n",
       "</div>"
      ],
      "text/plain": [
       "                       job_title                                   company  \\\n",
       "0  Business Intelligence Analyst                                     Netza   \n",
       "1                   Data Analyst                                    Vitrio   \n",
       "2          Data Analytics Intern                            Edelman Brasil   \n",
       "3       Assistant Civil Engineer  Marques Construtora e Incorporadora Ltda   \n",
       "4            Senior Data Analyst                                 Joyn GmbH   \n",
       "\n",
       "    job_type job_duration  order     profile  \n",
       "0  Full-time         1 yr    1.0   profile_1  \n",
       "1  Full-time        2 mos    2.0   profile_1  \n",
       "2        NaN       10 mos    3.0   profile_1  \n",
       "3        NaN        4 yrs    4.0   profile_1  \n",
       "4  Full-time   1 yr 3 mos    1.0  profile_10  "
      ]
     },
     "execution_count": 22,
     "metadata": {},
     "output_type": "execute_result"
    }
   ],
   "source": [
    "df_experience.head()"
   ]
  },
  {
   "cell_type": "code",
   "execution_count": null,
   "metadata": {},
   "outputs": [],
   "source": []
  }
 ],
 "metadata": {
  "interpreter": {
   "hash": "3c2a460bee3dcd91d90c0019b86ca24469593ce537ffd19732e7defe3509c977"
  },
  "kernelspec": {
   "display_name": "Python 3.7.13 ('ds')",
   "language": "python",
   "name": "python3"
  },
  "language_info": {
   "codemirror_mode": {
    "name": "ipython",
    "version": 3
   },
   "file_extension": ".py",
   "mimetype": "text/x-python",
   "name": "python",
   "nbconvert_exporter": "python",
   "pygments_lexer": "ipython3",
   "version": "3.10.4"
  },
  "orig_nbformat": 4
 },
 "nbformat": 4,
 "nbformat_minor": 2
}
