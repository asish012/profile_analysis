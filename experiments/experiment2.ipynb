{
 "cells": [
  {
   "cell_type": "code",
   "execution_count": 73,
   "metadata": {},
   "outputs": [],
   "source": [
    "import os, time, random, re, json, configparser\n",
    "import pandas as pd\n",
    "from pandas import json_normalize"
   ]
  },
  {
   "cell_type": "code",
   "execution_count": 74,
   "metadata": {},
   "outputs": [],
   "source": [
    "df_profile = pd.read_csv(\"../scraped_data/profile.csv\", index_col=False)\n",
    "df_experience = pd.read_csv(\"../scraped_data/experience.csv\", index_col=False)\n",
    "df_education = pd.read_csv(\"../scraped_data/education.csv\", index_col=False)\n",
    "df_certification = pd.read_csv(\"../scraped_data/certification.csv\", index_col=False)\n",
    "df_courses = pd.read_csv(\"../scraped_data/courses.csv\", index_col=False)"
   ]
  },
  {
   "cell_type": "markdown",
   "metadata": {},
   "source": [
    "### Profile "
   ]
  },
  {
   "cell_type": "code",
   "execution_count": 75,
   "metadata": {},
   "outputs": [
    {
     "data": {
      "text/html": [
       "<div>\n",
       "<style scoped>\n",
       "    .dataframe tbody tr th:only-of-type {\n",
       "        vertical-align: middle;\n",
       "    }\n",
       "\n",
       "    .dataframe tbody tr th {\n",
       "        vertical-align: top;\n",
       "    }\n",
       "\n",
       "    .dataframe thead th {\n",
       "        text-align: right;\n",
       "    }\n",
       "</style>\n",
       "<table border=\"1\" class=\"dataframe\">\n",
       "  <thead>\n",
       "    <tr style=\"text-align: right;\">\n",
       "      <th></th>\n",
       "      <th>profile</th>\n",
       "      <th>name</th>\n",
       "      <th>location</th>\n",
       "      <th>designation</th>\n",
       "    </tr>\n",
       "  </thead>\n",
       "  <tbody>\n",
       "    <tr>\n",
       "      <th>0</th>\n",
       "      <td>profile_1</td>\n",
       "      <td>Naiara W Jacoboski</td>\n",
       "      <td>Munich, Bavaria, Germany</td>\n",
       "      <td>Data Analyst | Business Intelligence Analyst</td>\n",
       "    </tr>\n",
       "    <tr>\n",
       "      <th>1</th>\n",
       "      <td>profile_10</td>\n",
       "      <td>Sedat Karsli</td>\n",
       "      <td>Munich, Bavaria, Germany</td>\n",
       "      <td>Senior Data Analyst</td>\n",
       "    </tr>\n",
       "    <tr>\n",
       "      <th>2</th>\n",
       "      <td>profile_100</td>\n",
       "      <td>Maximilian Pfleger</td>\n",
       "      <td>Bavaria, Germany</td>\n",
       "      <td>Data Engineer at Pricenow | CS at TUM &amp; EPFL |...</td>\n",
       "    </tr>\n",
       "    <tr>\n",
       "      <th>3</th>\n",
       "      <td>profile_101</td>\n",
       "      <td>Daniel Ankamah, FRM</td>\n",
       "      <td>Bavaria, Germany</td>\n",
       "      <td>Risk Data Analyst</td>\n",
       "    </tr>\n",
       "    <tr>\n",
       "      <th>4</th>\n",
       "      <td>profile_102</td>\n",
       "      <td>Amisha Agrawal</td>\n",
       "      <td>Munich, Bavaria, Germany</td>\n",
       "      <td>Data Analyst</td>\n",
       "    </tr>\n",
       "  </tbody>\n",
       "</table>\n",
       "</div>"
      ],
      "text/plain": [
       "       profile                 name                  location  \\\n",
       "0    profile_1   Naiara W Jacoboski  Munich, Bavaria, Germany   \n",
       "1   profile_10         Sedat Karsli  Munich, Bavaria, Germany   \n",
       "2  profile_100   Maximilian Pfleger          Bavaria, Germany   \n",
       "3  profile_101  Daniel Ankamah, FRM          Bavaria, Germany   \n",
       "4  profile_102       Amisha Agrawal  Munich, Bavaria, Germany   \n",
       "\n",
       "                                         designation  \n",
       "0       Data Analyst | Business Intelligence Analyst  \n",
       "1                                Senior Data Analyst  \n",
       "2  Data Engineer at Pricenow | CS at TUM & EPFL |...  \n",
       "3                                  Risk Data Analyst  \n",
       "4                                       Data Analyst  "
      ]
     },
     "execution_count": 75,
     "metadata": {},
     "output_type": "execute_result"
    }
   ],
   "source": [
    "df_profile.head()"
   ]
  },
  {
   "cell_type": "code",
   "execution_count": 76,
   "metadata": {},
   "outputs": [
    {
     "data": {
      "text/html": [
       "<div>\n",
       "<style scoped>\n",
       "    .dataframe tbody tr th:only-of-type {\n",
       "        vertical-align: middle;\n",
       "    }\n",
       "\n",
       "    .dataframe tbody tr th {\n",
       "        vertical-align: top;\n",
       "    }\n",
       "\n",
       "    .dataframe thead th {\n",
       "        text-align: right;\n",
       "    }\n",
       "</style>\n",
       "<table border=\"1\" class=\"dataframe\">\n",
       "  <thead>\n",
       "    <tr style=\"text-align: right;\">\n",
       "      <th></th>\n",
       "      <th>profile</th>\n",
       "      <th>name</th>\n",
       "      <th>location</th>\n",
       "      <th>designation</th>\n",
       "      <th>country</th>\n",
       "    </tr>\n",
       "  </thead>\n",
       "  <tbody>\n",
       "    <tr>\n",
       "      <th>0</th>\n",
       "      <td>profile_1</td>\n",
       "      <td>Naiara W Jacoboski</td>\n",
       "      <td>Munich, Bavaria, Germany</td>\n",
       "      <td>Data Analyst | Business Intelligence Analyst</td>\n",
       "      <td>Germany</td>\n",
       "    </tr>\n",
       "    <tr>\n",
       "      <th>1</th>\n",
       "      <td>profile_10</td>\n",
       "      <td>Sedat Karsli</td>\n",
       "      <td>Munich, Bavaria, Germany</td>\n",
       "      <td>Senior Data Analyst</td>\n",
       "      <td>Germany</td>\n",
       "    </tr>\n",
       "    <tr>\n",
       "      <th>2</th>\n",
       "      <td>profile_100</td>\n",
       "      <td>Maximilian Pfleger</td>\n",
       "      <td>Bavaria, Germany</td>\n",
       "      <td>Data Engineer at Pricenow | CS at TUM &amp; EPFL |...</td>\n",
       "      <td>Germany</td>\n",
       "    </tr>\n",
       "    <tr>\n",
       "      <th>3</th>\n",
       "      <td>profile_101</td>\n",
       "      <td>Daniel Ankamah, FRM</td>\n",
       "      <td>Bavaria, Germany</td>\n",
       "      <td>Risk Data Analyst</td>\n",
       "      <td>Germany</td>\n",
       "    </tr>\n",
       "    <tr>\n",
       "      <th>4</th>\n",
       "      <td>profile_102</td>\n",
       "      <td>Amisha Agrawal</td>\n",
       "      <td>Munich, Bavaria, Germany</td>\n",
       "      <td>Data Analyst</td>\n",
       "      <td>Germany</td>\n",
       "    </tr>\n",
       "    <tr>\n",
       "      <th>...</th>\n",
       "      <td>...</td>\n",
       "      <td>...</td>\n",
       "      <td>...</td>\n",
       "      <td>...</td>\n",
       "      <td>...</td>\n",
       "    </tr>\n",
       "    <tr>\n",
       "      <th>438</th>\n",
       "      <td>profile_95</td>\n",
       "      <td>Julia Fietz</td>\n",
       "      <td>Munich, Bavaria, Germany</td>\n",
       "      <td>Psychologist | Neuroscientist | Data Analyst</td>\n",
       "      <td>Germany</td>\n",
       "    </tr>\n",
       "    <tr>\n",
       "      <th>439</th>\n",
       "      <td>profile_96</td>\n",
       "      <td>Sylvia Endres, PhD</td>\n",
       "      <td>Nuremberg, Bavaria, Germany</td>\n",
       "      <td>Data Scientist @ Siemens IT | PhD in Statistics</td>\n",
       "      <td>Germany</td>\n",
       "    </tr>\n",
       "    <tr>\n",
       "      <th>440</th>\n",
       "      <td>profile_97</td>\n",
       "      <td>Tobias Reinholz</td>\n",
       "      <td>Munich, Bavaria, Germany</td>\n",
       "      <td>Data Analyst bei ClimatePartner</td>\n",
       "      <td>Germany</td>\n",
       "    </tr>\n",
       "    <tr>\n",
       "      <th>441</th>\n",
       "      <td>profile_98</td>\n",
       "      <td>Dr. Dinar Katanov</td>\n",
       "      <td>Bavaria, Germany</td>\n",
       "      <td>Reporting and Data Analyst at Webasto Thermo &amp;...</td>\n",
       "      <td>Germany</td>\n",
       "    </tr>\n",
       "    <tr>\n",
       "      <th>442</th>\n",
       "      <td>profile_99</td>\n",
       "      <td>Manuel Gruber</td>\n",
       "      <td>Freising, Bavaria, Germany</td>\n",
       "      <td>Data Analyst at Personio</td>\n",
       "      <td>Germany</td>\n",
       "    </tr>\n",
       "  </tbody>\n",
       "</table>\n",
       "<p>443 rows × 5 columns</p>\n",
       "</div>"
      ],
      "text/plain": [
       "         profile                 name                     location  \\\n",
       "0      profile_1   Naiara W Jacoboski     Munich, Bavaria, Germany   \n",
       "1     profile_10         Sedat Karsli     Munich, Bavaria, Germany   \n",
       "2    profile_100   Maximilian Pfleger             Bavaria, Germany   \n",
       "3    profile_101  Daniel Ankamah, FRM             Bavaria, Germany   \n",
       "4    profile_102       Amisha Agrawal     Munich, Bavaria, Germany   \n",
       "..           ...                  ...                          ...   \n",
       "438   profile_95          Julia Fietz     Munich, Bavaria, Germany   \n",
       "439   profile_96   Sylvia Endres, PhD  Nuremberg, Bavaria, Germany   \n",
       "440   profile_97      Tobias Reinholz     Munich, Bavaria, Germany   \n",
       "441   profile_98    Dr. Dinar Katanov             Bavaria, Germany   \n",
       "442   profile_99        Manuel Gruber   Freising, Bavaria, Germany   \n",
       "\n",
       "                                           designation   country  \n",
       "0         Data Analyst | Business Intelligence Analyst   Germany  \n",
       "1                                  Senior Data Analyst   Germany  \n",
       "2    Data Engineer at Pricenow | CS at TUM & EPFL |...   Germany  \n",
       "3                                    Risk Data Analyst   Germany  \n",
       "4                                         Data Analyst   Germany  \n",
       "..                                                 ...       ...  \n",
       "438       Psychologist | Neuroscientist | Data Analyst   Germany  \n",
       "439    Data Scientist @ Siemens IT | PhD in Statistics   Germany  \n",
       "440                    Data Analyst bei ClimatePartner   Germany  \n",
       "441  Reporting and Data Analyst at Webasto Thermo &...   Germany  \n",
       "442                           Data Analyst at Personio   Germany  \n",
       "\n",
       "[443 rows x 5 columns]"
      ]
     },
     "execution_count": 76,
     "metadata": {},
     "output_type": "execute_result"
    }
   ],
   "source": [
    "# df_profile[\"location\"] = df_profile[\"location\"].str.replace(\", Bavaria\", \"\")\n",
    "df_profile[\"country\"] = df_profile[\"location\"].str.split(',').str[-1]\n",
    "df_profile"
   ]
  },
  {
   "cell_type": "markdown",
   "metadata": {},
   "source": [
    "### Educaiton"
   ]
  },
  {
   "cell_type": "code",
   "execution_count": 77,
   "metadata": {},
   "outputs": [],
   "source": [
    "def get_specialization(title):\n",
    "    l = title.split(',')\n",
    "    return l"
   ]
  },
  {
   "cell_type": "code",
   "execution_count": 78,
   "metadata": {},
   "outputs": [],
   "source": [
    "# df_education[\"specialization\"] = df_education[\"title\"].apply(lambda title: get_specialization(title))\n",
    "# df_education"
   ]
  },
  {
   "cell_type": "code",
   "execution_count": null,
   "metadata": {},
   "outputs": [],
   "source": []
  },
  {
   "cell_type": "markdown",
   "metadata": {},
   "source": [
    "### Save clean data"
   ]
  },
  {
   "cell_type": "code",
   "execution_count": 79,
   "metadata": {},
   "outputs": [
    {
     "name": "stdout",
     "output_type": "stream",
     "text": [
      "done\n"
     ]
    }
   ],
   "source": [
    "df_profile.to_csv(\"../clean_data/profile.csv\", index=False)\n",
    "df_experience.to_csv(\"../clean_data/experience.csv\", index=False)\n",
    "df_education.to_csv(\"../clean_data/education.csv\", index=False)\n",
    "df_certification.to_csv(\"../clean_data/certification.csv\", index=False)\n",
    "df_courses.to_csv(\"../clean_data/courses.csv\", index=False)\n",
    "print(\"done\")"
   ]
  }
 ],
 "metadata": {
  "interpreter": {
   "hash": "3c2a460bee3dcd91d90c0019b86ca24469593ce537ffd19732e7defe3509c977"
  },
  "kernelspec": {
   "display_name": "Python 3.7.13 ('ds')",
   "language": "python",
   "name": "python3"
  },
  "language_info": {
   "codemirror_mode": {
    "name": "ipython",
    "version": 3
   },
   "file_extension": ".py",
   "mimetype": "text/x-python",
   "name": "python",
   "nbconvert_exporter": "python",
   "pygments_lexer": "ipython3",
   "version": "3.10.4"
  },
  "orig_nbformat": 4
 },
 "nbformat": 4,
 "nbformat_minor": 2
}
