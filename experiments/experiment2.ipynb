{
 "cells": [
  {
   "cell_type": "code",
   "execution_count": 13,
   "metadata": {},
   "outputs": [],
   "source": [
    "import os, time, random, re, json, configparser\n",
    "import pandas as pd\n",
    "import numpy as np\n",
    "from pandas import json_normalize"
   ]
  },
  {
   "cell_type": "code",
   "execution_count": 14,
   "metadata": {},
   "outputs": [],
   "source": [
    "df_profile = pd.read_csv(\"../scraped_data/profile.csv\", index_col=False)\n",
    "df_experience = pd.read_csv(\"../scraped_data/experience.csv\", index_col=False)\n",
    "df_education = pd.read_csv(\"../scraped_data/education.csv\", index_col=False)\n",
    "df_certification = pd.read_csv(\"../scraped_data/certification.csv\", index_col=False)\n",
    "df_courses = pd.read_csv(\"../scraped_data/courses.csv\", index_col=False)"
   ]
  },
  {
   "cell_type": "code",
   "execution_count": 15,
   "metadata": {},
   "outputs": [],
   "source": [
    "df_profile = df_profile.replace(\"’\", \"'\", regex=True).replace('&amp;','&', regex=True)\n",
    "df_experience = df_experience.replace(\"’\", \"'\", regex=True).replace('&amp;','&', regex=True)\n",
    "df_education = df_education.replace(\"’\", \"'\", regex=True).replace('&amp;','&', regex=True)\n",
    "df_certification = df_certification.replace(\"’\", \"'\", regex=True).replace('&amp;','&', regex=True)\n",
    "df_courses = df_courses.replace(\"’\", \"'\", regex=True).replace('&amp;','&', regex=True)\n",
    "\n",
    "df_education.to_csv(\"experiment_education.csv\", index=False)"
   ]
  },
  {
   "cell_type": "markdown",
   "metadata": {},
   "source": [
    "### Profile "
   ]
  },
  {
   "cell_type": "code",
   "execution_count": 16,
   "metadata": {},
   "outputs": [],
   "source": [
    "# df_profile.head()"
   ]
  },
  {
   "cell_type": "code",
   "execution_count": 17,
   "metadata": {},
   "outputs": [],
   "source": [
    "# df_profile[\"location\"] = df_profile[\"location\"].str.replace(\", Bavaria\", \"\")\n",
    "df_profile[\"country\"] = df_profile[\"location\"].str.split(',').str[-1]\n",
    "# df_profile"
   ]
  },
  {
   "cell_type": "markdown",
   "metadata": {},
   "source": [
    "### Experience"
   ]
  },
  {
   "cell_type": "code",
   "execution_count": 18,
   "metadata": {},
   "outputs": [],
   "source": [
    "jobtitle_map = {\n",
    "    \"https\"                                                     : \"Online Company\",\n",
    "    \"Praktikant\"                                                : \"Student\",\n",
    "    \"Research Assistant\"                                        : \"Student\",\n",
    "    \"Teaching Assistant\"                                        : \"Student\",\n",
    "    \"Wissenschaftliche Hilfskraft\"                              : \"Student\",\n",
    "    \"Wissenschaftlicher Mitarbeiter\"                            : \"Researcher\",\n",
    "    \"Wissenschaftliche Mitarbeiterin\"                           : \"Researcher\",\n",
    "    \"Research Associate\"                                        : \"Researcher\",\n",
    "    \"Postdoctoral Research Fellow\"                              : \"Researcher\",\n",
    "    \"Postdoctoral Researcher\"                                   : \"Researcher\",\n",
    "    \"Senior Consultant\"                                         : \"Consultant\",\n",
    "    \"Research Assistant - Institute for Product Engineering\"    : \"Researcher\",\n",
    "    \"Doctoral Researcher\"                                       : \"Doctoral Candidate\",\n",
    "}\n",
    "\n",
    "r_jobtitle_map = {\n",
    "    r\"Master Thesis.*\"                                          : \"Student\",\n",
    "    r\".*Student.*\"                                              : \"Student\",\n",
    "    r\".*Intern.*\"                                               : \"Student\",\n",
    "    r\"Senior Data.*Analyst.*\"                                   : \"Senior Data Analyst\",\n",
    "    r\"Data.*[Ss]cien.*\"                                         : \"Data Scientist\",\n",
    "    r\".*Software.*\"                                             : \"Software Engineer\",\n",
    "    r\".*Data.*Engineer.*\"                                       : \"Data Engineer\",\n",
    "}\n",
    "\n",
    "df_experience['job_title'].replace('', np.nan, inplace=True)\n",
    "df_experience.dropna(subset=['job_title'], inplace=True)\n",
    "\n",
    "df_experience[\"job_title\"] = df_experience[\"job_title\"].replace(jobtitle_map, regex=False)\n",
    "# df_experience[\"job_title\"] = df_experience[\"job_title\"].replace(r_jobtitle_map, regex=True)\n",
    "\n",
    "# df_experience[\"job_title\"] = df_experience[\"job_title\"].str.replace(r\".*Data Analyst.*\", \"Data Analyst\", regex=True)\n",
    "# df_experience[\"job_title\"] = df_experience[\"job_title\"].str.replace(r\".*Data Scientist.*\", \"Data Scientist\", regex=True)\n",
    "# df_experience[\"job_title\"] = df_experience[\"job_title\"].str.replace(r\".*Data Engineer.*\", \"Data Engineer\", regex=True)"
   ]
  },
  {
   "cell_type": "markdown",
   "metadata": {},
   "source": [
    "### Educaiton"
   ]
  },
  {
   "cell_type": "code",
   "execution_count": 19,
   "metadata": {},
   "outputs": [
    {
     "name": "stdout",
     "output_type": "stream",
     "text": [
      "(1088, 4)\n"
     ]
    }
   ],
   "source": [
    "print(df_education.shape)"
   ]
  },
  {
   "cell_type": "code",
   "execution_count": 20,
   "metadata": {},
   "outputs": [],
   "source": [
    "df_education[\"title\"] = df_education[\"title\"].str.title()\n",
    "df_education[\"title\"] = df_education[\"title\"].str.replace(\"'S\", \"'s\", regex=True).replace(\"Of\", \"of\", regex=True)\n",
    "\n",
    "df_education.to_csv(\"experiment_education.csv\", index=False)\n",
    "# M.Sc."
   ]
  },
  {
   "cell_type": "code",
   "execution_count": 21,
   "metadata": {},
   "outputs": [
    {
     "name": "stdout",
     "output_type": "stream",
     "text": [
      "(1088, 4)\n"
     ]
    }
   ],
   "source": [
    "print(df_education.shape)"
   ]
  },
  {
   "cell_type": "code",
   "execution_count": 22,
   "metadata": {},
   "outputs": [],
   "source": [
    "education_map = {\n",
    "    \"Doktor\"                                : \"Ph.D.\",\n",
    "    \"Doctor of Philosophy\"                  : \"Ph.D.\",\n",
    "    \"Doctoral Degree\"                       : \"Ph.D.\",\n",
    "    \"Master of Science\"                     : \"Masters\",\n",
    "    \"Master of Engineering\"                 : \"Masters\",\n",
    "    \"Master's Degree\"                       : \"Masters\",\n",
    "    \"Master of Arts\"                        : \"Masters\",\n",
    "    \"Master\"                                : \"Masters\",\n",
    "    \"Msc\"                                   : \"Masters\",\n",
    "    \"M. Sc.\"                                : \"Masters\",\n",
    "    \"M.Sc.\"                                 : \"Masters\",\n",
    "    \"M.Sc\"                                  : \"Masters\",\n",
    "    \"Bachelor of Science\"                   : \"Bachelors\",\n",
    "    \"Bachelor's Degree\"                     : \"Bachelors\",\n",
    "    \"Bachelor of Engineering\"               : \"Bachelors\",\n",
    "    \"Bachelor of Arts\"                      : \"Bachelors\",\n",
    "    \"Bachelor of Technology\"                : \"Bachelors\",\n",
    "    \"Bachelor of Applied Science\"           : \"Bachelors\",\n",
    "    \"Bachelor\"                              : \"Bachelors\",\n",
    "    \"B.Sc.\"                                 : \"Bachelors\",\n",
    "    \"Bs\"                                    : \"Bachelors\",\n",
    "    \"Dipl.\"                                 : \"Bachelors\",\n",
    "    \"Diplom\"                                : \"Bachelors\",\n",
    "    \"Diploma\"                               : \"Bachelors\",\n",
    "    \"Master of Business Administration\"     : \"MBA\",\n",
    "    \"Bachelor of Business Administration\"   : \"BBA\",\n",
    "}\n",
    "\n",
    "r_education_map = {\n",
    "    r\"Dr\\. R.*\"                             : \"Ph.D.\",\n",
    "    r\"Phd.*\"                                : \"Ph.D.\",\n",
    "    r\"Master of.*\"                          : \"Masters\",\n",
    "}\n",
    "\n",
    "def get_specialization(title):\n",
    "    l = title.split(',') if not pd.isna(title) else [\"\", \"\"]\n",
    "    stitle = l[0].split('-')[0].strip() if '-' in l[0] else l[0].strip()\n",
    "    special = l[-1].strip()\n",
    "    return [stitle, special]\n",
    "\n",
    "df = pd.DataFrame(df_education[\"title\"].apply(lambda title: get_specialization(title)).tolist(), columns=[\"degree\", \"specialization\"])\n",
    "\n",
    "df_education = pd.concat([df_education, df], axis=1).reindex(df_education.index)\n",
    "\n",
    "df_education['degree'].replace('', np.nan, inplace=True)\n",
    "df_education.dropna(subset=['degree'], inplace=True)\n",
    "\n",
    "df_education[\"degree\"] = df_education[\"degree\"].replace(education_map, regex=False)\n",
    "df_education[\"degree\"] = df_education[\"degree\"].replace(r_education_map, regex=True)\n",
    "\n",
    "# df_education.to_csv(\"experiment_education.csv\", index=False)\n",
    "# df"
   ]
  },
  {
   "cell_type": "code",
   "execution_count": 23,
   "metadata": {},
   "outputs": [
    {
     "name": "stdout",
     "output_type": "stream",
     "text": [
      "(1058, 6)\n"
     ]
    }
   ],
   "source": [
    "print(df_education.shape)"
   ]
  },
  {
   "cell_type": "markdown",
   "metadata": {},
   "source": [
    "### Certification"
   ]
  },
  {
   "cell_type": "code",
   "execution_count": 24,
   "metadata": {},
   "outputs": [
    {
     "name": "stderr",
     "output_type": "stream",
     "text": [
      "C:\\Users\\cn4tvne\\AppData\\Local\\Temp\\ipykernel_47872\\1331510492.py:1: SettingWithCopyWarning: \n",
      "A value is trying to be set on a copy of a slice from a DataFrame\n",
      "\n",
      "See the caveats in the documentation: https://pandas.pydata.org/pandas-docs/stable/user_guide/indexing.html#returning-a-view-versus-a-copy\n",
      "  df_certification[['title', 'institute']].replace('', np.nan, inplace=True)\n"
     ]
    }
   ],
   "source": [
    "df_certification[['title', 'institute']].replace('', np.nan, inplace=True)\n",
    "df_certification.dropna(subset=['title', 'institute'], inplace=True)\n",
    "\n",
    "df_certification[\"institute\"] = df_certification[\"institute\"].str.replace(r\".*Coursera.*\", \"Coursera\", regex=True)"
   ]
  },
  {
   "cell_type": "markdown",
   "metadata": {},
   "source": [
    "### Save clean data"
   ]
  },
  {
   "cell_type": "code",
   "execution_count": 25,
   "metadata": {},
   "outputs": [
    {
     "name": "stdout",
     "output_type": "stream",
     "text": [
      "done\n"
     ]
    }
   ],
   "source": [
    "df_profile.to_csv(\"../clean_data/profile.csv\", index=False)\n",
    "df_experience.to_csv(\"../clean_data/experience.csv\", index=False)\n",
    "df_education.to_csv(\"../clean_data/education.csv\", index=False)\n",
    "df_certification.to_csv(\"../clean_data/certification.csv\", index=False)\n",
    "df_courses.to_csv(\"../clean_data/courses.csv\", index=False)\n",
    "print(\"done\")"
   ]
  }
 ],
 "metadata": {
  "interpreter": {
   "hash": "3c2a460bee3dcd91d90c0019b86ca24469593ce537ffd19732e7defe3509c977"
  },
  "kernelspec": {
   "display_name": "Python 3.7.13 ('ds')",
   "language": "python",
   "name": "python3"
  },
  "language_info": {
   "codemirror_mode": {
    "name": "ipython",
    "version": 3
   },
   "file_extension": ".py",
   "mimetype": "text/x-python",
   "name": "python",
   "nbconvert_exporter": "python",
   "pygments_lexer": "ipython3",
   "version": "3.10.4"
  },
  "orig_nbformat": 4
 },
 "nbformat": 4,
 "nbformat_minor": 2
}
