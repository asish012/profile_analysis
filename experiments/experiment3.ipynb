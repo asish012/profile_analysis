{
 "cells": [
  {
   "cell_type": "code",
   "execution_count": null,
   "metadata": {},
   "outputs": [],
   "source": [
    "import pandas as pd\n",
    "from bs4 import BeautifulSoup\n",
    "import os, time, random, configparser\n",
    "\n",
    "from selenium.webdriver import Chrome\n",
    "from selenium.webdriver.common.by import By\n",
    "from selenium.webdriver.common.keys import Keys\n",
    "from selenium.webdriver.support.ui import WebDriverWait\n",
    "from selenium.webdriver.support import expected_conditions as EC"
   ]
  },
  {
   "cell_type": "code",
   "execution_count": null,
   "metadata": {},
   "outputs": [],
   "source": [
    "config = configparser.ConfigParser()\n",
    "config.read('../config.ini')\n",
    "username = config['DEFAULT']['username']\n",
    "password = config['DEFAULT']['password']"
   ]
  },
  {
   "cell_type": "code",
   "execution_count": null,
   "metadata": {},
   "outputs": [],
   "source": [
    "driver = Chrome(\"C:/Users/cn4tvne/Documents/workspace/linkedin-analytics/driver/chromedriver.exe\")\n",
    "driver.get(\"https://www.linkedin.com/login\")\n"
   ]
  },
  {
   "cell_type": "code",
   "execution_count": null,
   "metadata": {},
   "outputs": [],
   "source": [
    "def get_element(selector_type=By.CSS_SELECTOR, css_tag=\"\"):\n",
    "    return WebDriverWait(driver, 10).until(EC.element_to_be_clickable((selector_type, css_tag)))"
   ]
  },
  {
   "cell_type": "code",
   "execution_count": null,
   "metadata": {},
   "outputs": [],
   "source": [
    "username = get_element(By.CSS_SELECTOR, \"input[name='session_key']\")\n",
    "password = get_element(By.CSS_SELECTOR, \"input[name='session_password']\")\n",
    "\n",
    "username.clear()\n",
    "password.clear()"
   ]
  },
  {
   "cell_type": "code",
   "execution_count": null,
   "metadata": {},
   "outputs": [],
   "source": [
    "username.send_keys(username)\n",
    "password.send_keys(password)"
   ]
  },
  {
   "cell_type": "code",
   "execution_count": null,
   "metadata": {},
   "outputs": [],
   "source": [
    "submit = get_element(By.CSS_SELECTOR, \"button[class='btn__primary--large from__button--floating']\")\n",
    "submit.click()"
   ]
  },
  {
   "cell_type": "code",
   "execution_count": null,
   "metadata": {},
   "outputs": [],
   "source": [
    "search = get_element(By.CSS_SELECTOR, \"button[class='search-global-typeahead__collapsed-search-button']\")\n",
    "# search = get_element(By.CSS_SELECTOR, \"input[class='search-global-typeahead__input always-show-placeholder']\") # fullscreen mode\n",
    "\n",
    "search.click()"
   ]
  },
  {
   "cell_type": "code",
   "execution_count": null,
   "metadata": {},
   "outputs": [],
   "source": [
    "search_text = get_element(By.CSS_SELECTOR, \"input[class='search-global-typeahead__input always-show-placeholder']\")\n",
    "# search.click()\n",
    "search_text.send_keys(\"data analyst\")\n",
    "search_text.send_keys(Keys.ENTER)"
   ]
  },
  {
   "cell_type": "code",
   "execution_count": null,
   "metadata": {},
   "outputs": [],
   "source": [
    "people = get_element(By.XPATH, \"//a[contains(text(), 'See all people results')]\")\n",
    "people.click()"
   ]
  },
  {
   "cell_type": "code",
   "execution_count": null,
   "metadata": {},
   "outputs": [],
   "source": [
    "# profile_urls = get_element(By.CSS_SELECTOR, \"ul[class='reusable-search__entity-result-list list-style-none']\")\n",
    "# profile_container = driver.find_element(By.XPATH, \"//ul[@class='reusable-search__entity-result-list list-style-none']\")\n",
    "# profile_urls = profile_container.find_elements(By.TAG_NAME, 'li')"
   ]
  },
  {
   "cell_type": "code",
   "execution_count": null,
   "metadata": {},
   "outputs": [],
   "source": [
    "# for li in profile_urls:\n",
    "#     # print(url.find_element(By.CLASS_NAME, \"app-aware-link\").get_attribute('href'))\n",
    "#     # url_element = li.find_element(By.XPATH, \"//span[@class='entity-result__title-text t-16']//a[@class='app-aware-link']\")\n",
    "#     url_element = li.find_element(By.XPATH, \"//div[@class='mb1']//a[@class='app-aware-link']\")\n",
    "#     url = url_element.get_attribute('href')\n",
    "#     # if 'search/result' not in url:\n",
    "#     print(url)\n",
    "#     # print(url_element.find_element(By.XPATH, \"//span[@dir='ltr']//span[@aria-hidden='true']\").text)\n"
   ]
  },
  {
   "cell_type": "code",
   "execution_count": null,
   "metadata": {},
   "outputs": [],
   "source": [
    "soup = BeautifulSoup(driver.page_source)\n",
    "profile_urls = soup.find_all(\"li\", {\"class\": \"reusable-search__result-container\"})\n",
    "\n",
    "for li in profile_urls:\n",
    "    url = li.find(\"a\", {\"class\": \"app-aware-link\"})[\"href\"]\n",
    "    if 'search/result' not in url:\n",
    "        print(url)"
   ]
  },
  {
   "cell_type": "code",
   "execution_count": null,
   "metadata": {},
   "outputs": [],
   "source": [
    "driver.execute_script(\"window.scrollTo(0, 4000)\")"
   ]
  },
  {
   "cell_type": "code",
   "execution_count": null,
   "metadata": {},
   "outputs": [],
   "source": [
    "next = get_element(By.XPATH, \"//button[@aria-label='Next']\")"
   ]
  },
  {
   "cell_type": "code",
   "execution_count": null,
   "metadata": {},
   "outputs": [],
   "source": [
    "next.click()"
   ]
  },
  {
   "cell_type": "markdown",
   "metadata": {},
   "source": [
    "# BeautifulSoup with Selenium"
   ]
  },
  {
   "cell_type": "code",
   "execution_count": null,
   "metadata": {},
   "outputs": [],
   "source": [
    "soup = BeautifulSoup(driver.page_source)"
   ]
  },
  {
   "cell_type": "code",
   "execution_count": null,
   "metadata": {},
   "outputs": [],
   "source": [
    "profile_urls = soup.find_all(\"li\", {\"class\": \"reusable-search__result-container\"})\n",
    "len(profile_urls)"
   ]
  },
  {
   "cell_type": "code",
   "execution_count": null,
   "metadata": {},
   "outputs": [],
   "source": [
    "for li in profile_urls:\n",
    "    url = li.find(\"a\", {\"class\": \"app-aware-link\"})[\"href\"]\n",
    "    if 'search/result' not in url:\n",
    "        print(url)"
   ]
  },
  {
   "cell_type": "code",
   "execution_count": null,
   "metadata": {},
   "outputs": [],
   "source": []
  }
 ],
 "metadata": {
  "interpreter": {
   "hash": "3c2a460bee3dcd91d90c0019b86ca24469593ce537ffd19732e7defe3509c977"
  },
  "kernelspec": {
   "display_name": "Python 3.7.13 ('ds')",
   "language": "python",
   "name": "python3"
  },
  "language_info": {
   "codemirror_mode": {
    "name": "ipython",
    "version": 3
   },
   "file_extension": ".py",
   "mimetype": "text/x-python",
   "name": "python",
   "nbconvert_exporter": "python",
   "pygments_lexer": "ipython3",
   "version": "3.10.4"
  },
  "orig_nbformat": 4
 },
 "nbformat": 4,
 "nbformat_minor": 2
}
